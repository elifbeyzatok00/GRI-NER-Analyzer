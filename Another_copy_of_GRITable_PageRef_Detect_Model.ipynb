{
  "nbformat": 4,
  "nbformat_minor": 0,
  "metadata": {
    "colab": {
      "provenance": [],
      "authorship_tag": "ABX9TyNdD+DM6ACPrwh0Mg0EdL0V",
      "include_colab_link": true
    },
    "kernelspec": {
      "name": "python3",
      "display_name": "Python 3"
    },
    "language_info": {
      "name": "python"
    }
  },
  "cells": [
    {
      "cell_type": "markdown",
      "metadata": {
        "id": "view-in-github",
        "colab_type": "text"
      },
      "source": [
        "<a href=\"https://colab.research.google.com/github/elifbeyzatok00/GRI_Detection_and_Merger/blob/main/Another_copy_of_GRITable_PageRef_Detect_Model.ipynb\" target=\"_parent\"><img src=\"https://colab.research.google.com/assets/colab-badge.svg\" alt=\"Open In Colab\"/></a>"
      ]
    },
    {
      "cell_type": "code",
      "source": [
        "!pip install PyMuPDF\n"
      ],
      "metadata": {
        "colab": {
          "base_uri": "https://localhost:8080/"
        },
        "id": "8JqdCF6-9Hp1",
        "outputId": "352061bf-bbcb-4142-bc0d-9f2b25038e1d"
      },
      "execution_count": 2,
      "outputs": [
        {
          "output_type": "stream",
          "name": "stdout",
          "text": [
            "Collecting PyMuPDF\n",
            "  Downloading PyMuPDF-1.24.9-cp310-none-manylinux2014_x86_64.whl.metadata (3.4 kB)\n",
            "Collecting PyMuPDFb==1.24.9 (from PyMuPDF)\n",
            "  Downloading PyMuPDFb-1.24.9-py3-none-manylinux2014_x86_64.manylinux_2_17_x86_64.whl.metadata (1.4 kB)\n",
            "Downloading PyMuPDF-1.24.9-cp310-none-manylinux2014_x86_64.whl (3.5 MB)\n",
            "\u001b[2K   \u001b[90m━━━━━━━━━━━━━━━━━━━━━━━━━━━━━━━━━━━━━━━━\u001b[0m \u001b[32m3.5/3.5 MB\u001b[0m \u001b[31m36.0 MB/s\u001b[0m eta \u001b[36m0:00:00\u001b[0m\n",
            "\u001b[?25hDownloading PyMuPDFb-1.24.9-py3-none-manylinux2014_x86_64.manylinux_2_17_x86_64.whl (15.9 MB)\n",
            "\u001b[2K   \u001b[90m━━━━━━━━━━━━━━━━━━━━━━━━━━━━━━━━━━━━━━━━\u001b[0m \u001b[32m15.9/15.9 MB\u001b[0m \u001b[31m44.5 MB/s\u001b[0m eta \u001b[36m0:00:00\u001b[0m\n",
            "\u001b[?25hInstalling collected packages: PyMuPDFb, PyMuPDF\n",
            "Successfully installed PyMuPDF-1.24.9 PyMuPDFb-1.24.9\n"
          ]
        }
      ]
    },
    {
      "cell_type": "code",
      "execution_count": 3,
      "metadata": {
        "id": "1gHn0TpJqm-q"
      },
      "outputs": [],
      "source": [
        "import fitz  # PyMuPDF\n",
        "import os\n",
        "import re\n",
        "from sklearn.feature_extraction.text import TfidfVectorizer\n",
        "from sklearn.linear_model import LogisticRegression\n",
        "from sklearn.pipeline import make_pipeline\n",
        "from sklearn.metrics import classification_report, confusion_matrix, accuracy_score\n",
        "from sklearn.model_selection import train_test_split, cross_val_predict\n",
        "import joblib\n",
        "import pandas as pd\n",
        "import numpy as np\n",
        "import seaborn as sns\n",
        "import matplotlib.pyplot as plt\n"
      ]
    },
    {
      "cell_type": "markdown",
      "source": [
        "# Extracting and Preparing Data"
      ],
      "metadata": {
        "id": "fzwKPjnsJS6q"
      }
    },
    {
      "cell_type": "code",
      "source": [
        "def get_color_str(color):\n",
        "    return f\"rgb({color[0]*255:.0f},{color[1]*255:.0f},{color[2]*255:.0f})\"\n",
        "\n",
        "\n",
        "def extract_highlighted_text_by_color(pdf_path):\n",
        "    doc = fitz.open(pdf_path)\n",
        "    highlighted_text_by_color = {}\n",
        "\n",
        "    for page_num in range(len(doc)):\n",
        "        page = doc[page_num]\n",
        "        annotations = page.annots()\n",
        "        if annotations:\n",
        "            for annot in annotations:\n",
        "                if annot.type[0] == 8:  # Highlight annotation\n",
        "                    color = annot.colors['stroke'] if 'stroke' in annot.colors else annot.colors['fill']\n",
        "                    color_str = get_color_str(color)\n",
        "                    if color_str not in highlighted_text_by_color:\n",
        "                        highlighted_text_by_color[color_str] = []\n",
        "                    quadpoints = annot.vertices\n",
        "                    quads = [quadpoints[i:i + 4] for i in range(0, len(quadpoints), 4)]\n",
        "                    for quad in quads:\n",
        "                        rect = fitz.Quad(quad).rect\n",
        "                        words = page.get_text(\"words\", clip=rect)\n",
        "                        words.sort(key=lambda w: (w[1], w[0]))  # sort by y, then by x\n",
        "                        highlighted_text_by_color[color_str].append(\" \".join(w[4] for w in words))\n",
        "\n",
        "    return highlighted_text_by_color\n",
        "\n",
        "def prepare_training_data(directory_path):\n",
        "    training_data = []\n",
        "    labels = []\n",
        "    pdf_files = [f for f in os.listdir(directory_path) if f.endswith('.pdf')]\n",
        "\n",
        "    for pdf_file in pdf_files:\n",
        "        pdf_path = os.path.join(directory_path, pdf_file)\n",
        "        highlights_by_color = extract_highlighted_text_by_color(pdf_path)\n",
        "        doc = fitz.open(pdf_path)\n",
        "\n",
        "        for color, texts in highlights_by_color.items():\n",
        "            for text in texts:\n",
        "                if color == 'rgb(255,240,102)':  # GRI Standard\n",
        "                    training_data.append(text)\n",
        "                    labels.append('GRI_Standard')\n",
        "                elif color == 'rgb(143,222,249)':  # Page references of GRI Standard\n",
        "                    training_data.append(text)\n",
        "                    labels.append('Page_Ref')\n",
        "\n",
        "        # Adding normal text\n",
        "        for page_num in range(len(doc)):\n",
        "            page = doc[page_num]\n",
        "            text = page.get_text(\"text\")\n",
        "            if text.strip() not in training_data:  # Avoid duplication\n",
        "                training_data.append(text.strip())\n",
        "                labels.append('Outside_Entity')  # 'Outside_Entity' for Outside any entity\n",
        "\n",
        "    return training_data, labels\n",
        "\n",
        "directory_path = '/content/labeled_dataset'  # Update this path to your labeled dataset directory\n",
        "training_data, labels = prepare_training_data(directory_path)\n"
      ],
      "metadata": {
        "id": "NO2zE8tDJSpd"
      },
      "execution_count": 5,
      "outputs": []
    },
    {
      "cell_type": "code",
      "source": [
        "# Debug: Print sample of training data and labels\n",
        "for i in range(5):\n",
        "    print(f\"Text: {training_data[i]}, Label: {labels[i]}\")"
      ],
      "metadata": {
        "colab": {
          "base_uri": "https://localhost:8080/"
        },
        "id": "BctXOuDfJmlR",
        "outputId": "52f2d31d-0996-4997-fd3b-ac6b1989910e"
      },
      "execution_count": 6,
      "outputs": [
        {
          "output_type": "stream",
          "name": "stdout",
          "text": [
            "Text: G4-1 Statement from most senior decision maker., Label: GRI_Standard\n",
            "Text: G4-2 Key impacts, risks and opportunities, Label: GRI_Standard\n",
            "Text: G4-3 Name of the organisation., Label: GRI_Standard\n",
            "Text: G4-4 Primary brands, products and services, Label: GRI_Standard\n",
            "Text: G4-5 Location of the organisation‘s headquarters., Label: GRI_Standard\n"
          ]
        }
      ]
    },
    {
      "cell_type": "markdown",
      "source": [
        "### check training data and labels"
      ],
      "metadata": {
        "id": "TAAAtPsZJqlr"
      }
    },
    {
      "cell_type": "code",
      "source": [
        "import pandas as pd\n",
        "df = pd.DataFrame({'text': training_data, 'label': labels})\n",
        "print(df)\n"
      ],
      "metadata": {
        "colab": {
          "base_uri": "https://localhost:8080/"
        },
        "id": "b7kl6ACnJsBO",
        "outputId": "e050c8f0-22c2-4da4-8777-cbe8597be36c"
      },
      "execution_count": 7,
      "outputs": [
        {
          "output_type": "stream",
          "name": "stdout",
          "text": [
            "                                                  text           label\n",
            "0      G4-1 Statement from most senior decision maker.    GRI_Standard\n",
            "1            G4-2 Key impacts, risks and opportunities    GRI_Standard\n",
            "2                       G4-3 Name of the organisation.    GRI_Standard\n",
            "3           G4-4 Primary brands, products and services    GRI_Standard\n",
            "4    G4-5 Location of the organisation‘s headquarters.    GRI_Standard\n",
            "..                                                 ...             ...\n",
            "490  •\\n•\\nWe will not tolerate the use, possession...  Outside_Entity\n",
            "491  WPP Human Rights Policy Statement\\nIntroductio...  Outside_Entity\n",
            "492  Our policy\\nTo embed our commitment to protect...  Outside_Entity\n",
            "493  Cover illustration \\nby Pablo S. Herrero \\nBre...  Outside_Entity\n",
            "494                                            wpp.com  Outside_Entity\n",
            "\n",
            "[495 rows x 2 columns]\n"
          ]
        }
      ]
    },
    {
      "cell_type": "code",
      "source": [
        "GRI_Standard_df = df[df['label'] == 'GRI_Standard']\n",
        "print(GRI_Standard_df)"
      ],
      "metadata": {
        "colab": {
          "base_uri": "https://localhost:8080/"
        },
        "id": "dCJAb1F-JtPT",
        "outputId": "1c3c00aa-cc62-4ede-dd11-9812086e246b"
      },
      "execution_count": 8,
      "outputs": [
        {
          "output_type": "stream",
          "name": "stdout",
          "text": [
            "                                                  text         label\n",
            "0      G4-1 Statement from most senior decision maker.  GRI_Standard\n",
            "1            G4-2 Key impacts, risks and opportunities  GRI_Standard\n",
            "2                       G4-3 Name of the organisation.  GRI_Standard\n",
            "3           G4-4 Primary brands, products and services  GRI_Standard\n",
            "4    G4-5 Location of the organisation‘s headquarters.  GRI_Standard\n",
            "..                                                 ...           ...\n",
            "210  including advertising, promotion, and sponsorship  GRI_Standard\n",
            "211                               by type of outcomes.  GRI_Standard\n",
            "212               G4-PR8 Total number of substantiated  GRI_Standard\n",
            "213          complaints regarding breaches of customer  GRI_Standard\n",
            "214               privacy and losses of customer data.  GRI_Standard\n",
            "\n",
            "[215 rows x 2 columns]\n"
          ]
        }
      ]
    },
    {
      "cell_type": "code",
      "source": [
        "Page_Ref_df = df[df['label'] == 'Page_Ref']\n",
        "print(Page_Ref_df)"
      ],
      "metadata": {
        "colab": {
          "base_uri": "https://localhost:8080/"
        },
        "id": "8lOfQCSBJu4I",
        "outputId": "953bdcb1-3bb4-40af-ec20-a00c45403e3a"
      },
      "execution_count": 9,
      "outputs": [
        {
          "output_type": "stream",
          "name": "stdout",
          "text": [
            "               text     label\n",
            "215          page 2  Page_Ref\n",
            "216          page 8  Page_Ref\n",
            "217         page 11  Page_Ref\n",
            "218         page 11  Page_Ref\n",
            "219         page 14  Page_Ref\n",
            "..              ...       ...\n",
            "362         page 33  Page_Ref\n",
            "363  pages 90 to 91  Page_Ref\n",
            "364         page 29  Page_Ref\n",
            "365         page 34  Page_Ref\n",
            "366         page 15  Page_Ref\n",
            "\n",
            "[152 rows x 2 columns]\n"
          ]
        }
      ]
    },
    {
      "cell_type": "code",
      "source": [
        "Outside_Entity_df = df[df['label'] == 'Outside_Entity']\n",
        "print(Outside_Entity_df)"
      ],
      "metadata": {
        "colab": {
          "base_uri": "https://localhost:8080/"
        },
        "id": "tKrKiXFgJxA3",
        "outputId": "984ef8eb-8bdb-431d-cbcd-1aa23e47d61e"
      },
      "execution_count": 11,
      "outputs": [
        {
          "output_type": "stream",
          "name": "stdout",
          "text": [
            "                                                  text           label\n",
            "367                    Sustainability Report 2016/2017  Outside_Entity\n",
            "368  Introduction\\n2\\t\\nFrom our CEO\\n4\\t\\nWho we a...  Outside_Entity\n",
            "369  WPP is the world’s leading communications serv...  Outside_Entity\n",
            "370  To say that 2016 was a year of political uncer...  Outside_Entity\n",
            "371  We are collaborating internally and with the o...  Outside_Entity\n",
            "..                                                 ...             ...\n",
            "490  •\\n•\\nWe will not tolerate the use, possession...  Outside_Entity\n",
            "491  WPP Human Rights Policy Statement\\nIntroductio...  Outside_Entity\n",
            "492  Our policy\\nTo embed our commitment to protect...  Outside_Entity\n",
            "493  Cover illustration \\nby Pablo S. Herrero \\nBre...  Outside_Entity\n",
            "494                                            wpp.com  Outside_Entity\n",
            "\n",
            "[128 rows x 2 columns]\n"
          ]
        }
      ]
    },
    {
      "cell_type": "markdown",
      "source": [
        "# Train Model"
      ],
      "metadata": {
        "id": "ygPrvNSyI2yY"
      }
    },
    {
      "cell_type": "code",
      "source": [
        "# Train the model\n",
        "def train_model(training_data, labels):\n",
        "    vectorizer = TfidfVectorizer()\n",
        "    classifier = LogisticRegression()\n",
        "    model = make_pipeline(vectorizer, classifier)\n",
        "    model.fit(training_data, labels)\n",
        "    joblib.dump(model, 'gri_model.pkl')\n",
        "    return model # Added return statement to return the trained model\n"
      ],
      "metadata": {
        "id": "m0kgHNuB9U1a"
      },
      "execution_count": 12,
      "outputs": []
    },
    {
      "cell_type": "code",
      "source": [
        "# Predict using the model\n",
        "def predict_with_model(pdf_path, model_path='gri_model.pkl'):\n",
        "    model = joblib.load(model_path)\n",
        "    doc = fitz.open(pdf_path)\n",
        "    GRI_Standards = []\n",
        "    page_references = []\n",
        "    outside_entities  = []\n",
        "\n",
        "    for page_num in range(len(doc)):\n",
        "        page = doc[page_num]\n",
        "        text = page.get_text(\"text\")\n",
        "        predictions = model.predict([text])\n",
        "\n",
        "        if 'GRI_Standard' in predictions:\n",
        "            GRI_Standards.append((page_num + 1, text))\n",
        "        if 'Page_Ref' in predictions:\n",
        "            page_references.append((page_num + 1, text))\n",
        "        if 'Outside_Entity' in predictions:\n",
        "            outside_entities.append((page_num + 1, text))\n",
        "\n",
        "    return GRI_Standards, page_references, outside_entities\n"
      ],
      "metadata": {
        "id": "9iYNeClp9ZIN"
      },
      "execution_count": 13,
      "outputs": []
    },
    {
      "cell_type": "code",
      "source": [
        "# Example usage\n",
        "directory_path = '/content/labeled_dataset'  # Directory containing the training PDFs\n",
        "training_data, labels = prepare_training_data(directory_path)\n",
        "X_train, X_test, y_train, y_test = train_test_split(training_data, labels, test_size=0.2, random_state=42)\n"
      ],
      "metadata": {
        "id": "k6dqb7nU9gRi"
      },
      "execution_count": 14,
      "outputs": []
    },
    {
      "cell_type": "code",
      "source": [
        "model = train_model(X_train, y_train)\n"
      ],
      "metadata": {
        "id": "qtJjbyMBAQFB"
      },
      "execution_count": 15,
      "outputs": []
    },
    {
      "cell_type": "markdown",
      "source": [
        "# Evaluate Model"
      ],
      "metadata": {
        "id": "ObH0vWqqeHHx"
      }
    },
    {
      "cell_type": "code",
      "source": [
        "from sklearn.metrics import classification_report, confusion_matrix, accuracy_score # import the necessary functions\n",
        "\n",
        "def evaluate_model(model, X_test, y_test):\n",
        "  \"\"\"\n",
        "  Evaluates a machine learning model and prints the accuracy.\n",
        "\n",
        "  Args:\n",
        "    model: The trained machine learning model.\n",
        "    X_test: The test data features.\n",
        "    y_test: The test data labels.\n",
        "  \"\"\"\n",
        "  y_pred = model.predict(X_test)\n",
        "  report = classification_report(y_test, y_pred) # changed the variable name to report to avoid conflict with the function name\n",
        "  conf_matrix = confusion_matrix(y_test, y_pred) # changed the variable name to conf_matrix to avoid conflict with the function name\n",
        "  accuracy = accuracy_score(y_test, y_pred)\n",
        "  print(f\"Classification Report:\\n{report}\")\n",
        "  print(f\"Confusion Matrix:\\n{conf_matrix}\")\n",
        "  print(f\"Accuracy: {accuracy}\")\n"
      ],
      "metadata": {
        "id": "mXzwxMeUep21"
      },
      "execution_count": 16,
      "outputs": []
    },
    {
      "cell_type": "code",
      "source": [
        "evaluate_model(model, X_test, y_test)\n"
      ],
      "metadata": {
        "colab": {
          "base_uri": "https://localhost:8080/"
        },
        "id": "2t4j1YU8cpAc",
        "outputId": "6a6f8e8f-5088-486c-fd9c-5155462c15ea"
      },
      "execution_count": 17,
      "outputs": [
        {
          "output_type": "stream",
          "name": "stdout",
          "text": [
            "Classification Report:\n",
            "                precision    recall  f1-score   support\n",
            "\n",
            "  GRI_Standard       0.96      1.00      0.98        46\n",
            "Outside_Entity       1.00      0.94      0.97        31\n",
            "      Page_Ref       1.00      1.00      1.00        22\n",
            "\n",
            "      accuracy                           0.98        99\n",
            "     macro avg       0.99      0.98      0.98        99\n",
            "  weighted avg       0.98      0.98      0.98        99\n",
            "\n",
            "Confusion Matrix:\n",
            "[[46  0  0]\n",
            " [ 2 29  0]\n",
            " [ 0  0 22]]\n",
            "Accuracy: 0.9797979797979798\n"
          ]
        }
      ]
    },
    {
      "cell_type": "code",
      "source": [
        "# Predict on a new PDF\n",
        "new_pdf_path = '/content/unlabeled_dataset/352031_1.pdf'\n",
        "GRI_Standards, page_references, outside_entities = predict_with_model(new_pdf_path)\n"
      ],
      "metadata": {
        "id": "kWWneGSD9sh-"
      },
      "execution_count": 20,
      "outputs": []
    },
    {
      "cell_type": "code",
      "source": [
        "print(\"GRI Standards:\")\n",
        "for standard in GRI_Standards:\n",
        "    print(f\"{standard}\\n\")\n"
      ],
      "metadata": {
        "colab": {
          "base_uri": "https://localhost:8080/"
        },
        "id": "SJ9-3g3k-aSi",
        "outputId": "7623dfb2-a6fd-4d6d-d1a4-abfa0f3fd543"
      },
      "execution_count": 24,
      "outputs": [
        {
          "output_type": "stream",
          "name": "stdout",
          "text": [
            "GRI Standards:\n",
            "(1, '1\\nCorporate Responsibility Report 2016\\n2016\\nresponsibility \\nreport\\nCorporate \\n')\n",
            "\n",
            "(6, '6\\nCorporate Responsibility Report 2016\\nHow we govern \\nOur board\\nThe Grieg Star Group Board of Directors is lead by Chair Elisabeth Grieg and meets \\nregularly in Bergen and Oslo to stake out the long term strategies for the company. \\nSince last year we have had some changes in the composition of the board. Bjørn Ga-\\nbriel Reed and Rune Birkeland have left the board, and Susanne Munch Thore sat a \\nshort period. In June 2017 Michelle Williams entered as Board Member. Board mem-\\nbers abstain from board discussions if potential conflict of interests occur. Board \\nmembers are recruited using independent executive search.\\nThe Board of Directors comprises:\\nHow we do it\\nElisabeth Grieg \\n(Chair and owner)\\nCamilla Grieg \\n(CEO and owner)\\nKai Grøtterud\\nMichelle Williams\\nDidrik Munch\\nGRI 4:1\\nGRI 4:2\\nGRI 4:3\\nGRI 4:4\\nGRI 4:6\\nGRI 4.9\\n \\n')\n",
            "\n",
            "(28, '28\\nCorporate Responsibility Report 2016\\nOur responsibility\\nModel tests for \\noptimal trim per-\\nformed on all vessels \\nnewer than the G-class. \\nModel data included in \\ncargo stewing software \\nto obtain optimal \\ntrim.\\nWeather routing system \\nused in all vessels for \\noptimal sailing route.\\nMarorka Energy \\nEfficiency System \\ninstalled on five vessels.\\nMevis duct so far \\ninstalled on four vessels. \\nTests indicate 5-6 % fuel \\nreduction.\\nPropeller Boss Cap Fin \\n(PBCF) installed \\non K-class vessels. 2 % \\nenergy reduction \\nexpected.\\nPropellers polished every \\n6 months\\nElectronic fuel injection \\non main engines chosen \\nfor L-class vessels.\\nFrequency control \\nof large pumps on \\nnew vessels. Expecting \\nsubstantial energy saving \\nduring land stay.\\nSliding fuel valves \\ninstalled on G-class and \\nnewer. Reduces NOx \\nemissions by 35 %.\\nAuto tuning for optimal\\noperation of Main Engine\\nOptimized slow-steaming \\nto reduce engine load.\\nStern tube oil replace by \\nbiodegradeble oil\\nFrequenzy controlled \\npumps to reduce energy \\nconsumption.\\nGreen passport on all new \\nand operating ships.\\nTraditional light bulbs \\nreplaced by LED.\\nGood seamanship and \\noperational practice\\nIncreased use of Eco-\\nspeed to reduce fuel \\nconsumption.\\n')\n",
            "\n",
            "(35, '35\\nCorporate Responsibility Report 2016\\nOur fleet\\nClass\\nName\\nBuilt\\nDWT\\nType\\nOwned/LTTC/\\nBB\\nF\\nStar Fuji\\n1985\\n40,850\\nOpen Hatch\\nOwned\\nG\\nStar Gran\\n1986\\n43,712\\nOpen Hatch\\nOwned\\nG\\nStar Grip\\n1986\\n43,712\\nOpen Hatch\\nOwned\\nH\\nStar Hansa\\n1995\\n46,580\\nOpen Hatch\\nOwned\\nH\\nStar Harmonia\\n1998\\n46,580\\nOpen Hatch\\nOwned\\nH\\nStar Herdla\\n1994\\n46,580\\nOpen Hatch\\nOwned\\nH\\nStar Hidra\\n1994\\n46,580\\nOpen Hatch\\nOwned\\nI\\nStar Isfjord\\n2000\\n46,547\\nOpen Hatch\\nOwned\\nI\\nStar Ismene\\n1999\\n46,547\\nOpen Hatch\\nOwned\\nI\\nStar Istind\\n1999\\n46,547\\nOpen Hatch\\nOwned\\nJ\\nStar Japan\\n2004\\n44,837\\nOpen Hatch\\nOwned\\nJ\\nStar Java\\n2006\\n44,837\\nOpen Hatch\\nOwned\\nJ\\nStar Juventas\\n2004\\n44,837\\nOpen Hatch\\nOwned\\nK\\nStar Kilimanjaro\\n2009\\n49,924\\nOpen Hatch\\nOwned\\nK\\nStar Kinn\\n2010\\n49,924\\nOpen Hatch\\nOwned\\nK\\nStar Kirkenes\\n2009\\n49,924\\nOpen Hatch\\nOwned\\nK\\nStar Kvarven\\n2010\\n49,924\\nOpen Hatch\\nOwned\\nL\\nStar Laguna\\n2012\\n50,761\\nOpen Hatch\\nOwned\\nL\\nStar Lima\\n2012\\n50,761\\nOpen Hatch\\nOwned\\nL\\nStar Lindesnes\\n2013\\n50,761\\nOpen Hatch\\nOwned\\nL\\nStar Livorno\\n2013\\n50,761\\nOpen Hatch\\nOwned\\nL\\nStar Loen\\n2013\\n50,761\\nOpen Hatch\\nOwned\\nL\\nStar Lofoten\\n2013\\n50,761\\nOpen Hatch\\nOwned\\nL\\nStar Louisiana\\n2013\\n50,761\\nOpen Hatch\\nBB\\nL\\nStar Luster\\n2013\\n50,761\\nOpen Hatch\\nOwned\\nL\\nStar Lygra\\n2014\\n50,761\\nOpen Hatch\\nBB\\nL\\nStar Lysefjord\\n2013\\n50,761\\nOpen Hatch\\nOwned\\nM\\nKai Xuan\\n2008\\n50,761\\nOpen Hatch\\nBB\\nM\\nStar Minerva\\n2008\\n50,757\\nOpen Hatch\\nBB\\nM\\nStar Navarra\\n2010\\n51,593\\nOpen Hatch\\nLTTC\\nM\\nStar Dalmatia\\n2011\\n51,593\\nOpen Hatch\\nLTTC\\n-\\nStar Athena\\n2012\\n58,018\\nConv. bulk\\nOwned\\n-\\nStar Artemis\\n2015\\n63,132\\nConv. bulk\\nOwned\\n-\\nStar Eracle\\n2012\\n58,018\\nConv. bulk\\nOwned\\n-\\nStar Eos\\n2015\\n63,132\\nConv. bulk\\nOwned\\n-\\nStar Norita\\n2012\\n58,097\\nConv. bulk\\nLTTC\\n-\\nStar Maine\\n2015\\n61,263\\nConv. bulk\\nLTTC\\n-\\nStar Pathfinder\\n2015\\n61,298\\nConv. bulk\\nLTTC\\n-\\nStar Crimson\\n2015\\n61,150\\nConv. bulk\\nLTTC\\n31 Open Hatch vessels\\n8 Conventional Bulk carriers\\n39 vessels in total\\n')\n",
            "\n",
            "(38, '38\\nCorporate Responsibility Report 2016\\nEN11\\nLocation and size of land in areas of high biodiversity value outside \\nprotected areas\\nNot relevant\\nEN12\\nImpacts on biodiversity in protected areas and  areas of high \\nbiodiversity \\nPage 27\\nEN16\\nTotal direct and indirect greenhouse gas emissions by weight\\nPage 25\\nEN17\\nOther relevant indirect greenhouse gas emissions by weight\\nPage 26\\nEN18*\\nInitiatives to reduce greenhouse gas emissions and reductions \\nachieved\\nPages 25, 26\\nEN19\\nEmissions of ozone-depleting substances by weight\\nNot reported\\nEN20\\nNOx, SOx, and other significant air emissions by type and weight\\nPage 26\\nEN21\\nTotal water discharge by quality and destination\\nPage 21\\nEN22\\nTotal weight of waste by type and disposal method \\nPage 27\\nEN23\\nTotal number and volume of significant spills\\nPage 27\\nEN26\\nEnvironmental impacts of products and services, and extent of \\nimpact mitigation\\nNot reported\\nEN27\\nPercentage of products sold and their packaging materials that are \\nreclaimed by category\\nNot reported\\nEN28\\nSignificant fines and sanctions for non-compliance with environ-\\nmental laws and regulations\\nNone\\nSOCIAL PERFOMANCE INDICATORS\\nLabor Practices and Decent Work\\nManagement Approach\\nLA1\\nTotal workforce by employment type, employment contract, and \\nregion\\nPages 14-15\\nLA2\\nEmployee turnover by age group, gender, and region\\nPages 14-15\\nLA4\\nPercentage of employees covered by collective bargaining agree-\\nments\\nPage 15\\nLA5\\nMinimum notice period(s) regarding operational changes\\nPage 15\\nLA6*\\nFormal joint management-worker health and safety committees\\nPages 15, 19\\nLA7\\nInjuries, occupational diseases, lost days, absenteeism, and \\nwork-related fatalities\\nPages 15, 20\\nLA8\\nEducation, training, prevention, and risk-control programs in place \\nregarding serious diseases\\nPages 17, 19\\nLA9*\\nHealth and safety topics covered in formal agreements with trade \\nunions\\nPage 16\\nLA10\\nAverage hours of training per year per employee by employee \\ncategory\\nPage 17\\nLA13\\nDiversity within governance bodies and employee categories \\nAR16\\nLA14\\nRatio of basic salary of men to women by employee category\\nNot reported\\nMobile worker working pattern\\nLT9\\nDescription of policies and programmes to determine working \\nhours and rest hours, rest facilities and leave for seafarers\\nPage 15\\nLT10\\nApproaches to provision of facilities to enable mobile workers to \\nmaintain personal communication while working\\nPage 23\\n')\n",
            "\n",
            "(40, 'griegstar.com\\n')\n",
            "\n"
          ]
        }
      ]
    },
    {
      "cell_type": "code",
      "source": [
        "print(\"Page References:\")\n",
        "for ref in page_references:\n",
        "    print(f\"{ref}\\n\")\n"
      ],
      "metadata": {
        "colab": {
          "base_uri": "https://localhost:8080/"
        },
        "id": "nvG4U9Sue6BC",
        "outputId": "27852fa0-1222-4915-d9b1-ccde68b68b8b"
      },
      "execution_count": 26,
      "outputs": [
        {
          "output_type": "stream",
          "name": "stdout",
          "text": [
            "Page References:\n",
            "(2, '2\\nCorporate Responsibility Report 2016\\nPage 3..........................................From our Chair\\nPage 4 & 5...................................Vision, Mission and Values\\nPage 6 & 7....................................How we govern\\nPage 8 & 9...................................Ethics and anti-corruption\\nPage 10-12.\\n..................................How we do it\\nPage 13.........................................Our vessels\\nPage 14-19.\\n..................................Our people\\nPage 20-21..................................Safety\\nPage 22-23.\\n.................................How we communicate\\nPage 24-31..................................Environment\\nPage 32-33..................................Grieg Foundation and local contributions\\nPage 34........................................Our history\\nPage 35........................................Our fleet\\nPage 36-39.\\n.................................GRI Index\\nContent\\nAll images Grieg Star copyright, except page \\n24 courtesy of the WWF Philippines .\\n \\n')\n",
            "\n"
          ]
        }
      ]
    },
    {
      "cell_type": "code",
      "source": [],
      "metadata": {
        "id": "_ZPw8_HMkYpb"
      },
      "execution_count": null,
      "outputs": []
    }
  ]
}