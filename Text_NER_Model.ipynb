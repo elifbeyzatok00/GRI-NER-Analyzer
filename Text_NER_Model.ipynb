{
  "nbformat": 4,
  "nbformat_minor": 0,
  "metadata": {
    "colab": {
      "provenance": [],
      "authorship_tag": "ABX9TyOrTVrXqZQTjyNLNXXWB4jf",
      "include_colab_link": true
    },
    "kernelspec": {
      "name": "python3",
      "display_name": "Python 3"
    },
    "language_info": {
      "name": "python"
    }
  },
  "cells": [
    {
      "cell_type": "markdown",
      "metadata": {
        "id": "view-in-github",
        "colab_type": "text"
      },
      "source": [
        "<a href=\"https://colab.research.google.com/github/elifbeyzatok00/GRI_Detection_and_Merger/blob/main/Text_NER_Model.ipynb\" target=\"_parent\"><img src=\"https://colab.research.google.com/assets/colab-badge.svg\" alt=\"Open In Colab\"/></a>"
      ]
    },
    {
      "cell_type": "code",
      "execution_count": 4,
      "metadata": {
        "colab": {
          "base_uri": "https://localhost:8080/"
        },
        "id": "Bcb4T2ISb9nw",
        "outputId": "7b72b87f-2862-4271-9162-1290ba273833"
      },
      "outputs": [
        {
          "output_type": "stream",
          "name": "stdout",
          "text": [
            "Requirement already satisfied: spacy in /usr/local/lib/python3.10/dist-packages (3.7.5)\n",
            "Requirement already satisfied: spacy-legacy<3.1.0,>=3.0.11 in /usr/local/lib/python3.10/dist-packages (from spacy) (3.0.12)\n",
            "Requirement already satisfied: spacy-loggers<2.0.0,>=1.0.0 in /usr/local/lib/python3.10/dist-packages (from spacy) (1.0.5)\n",
            "Requirement already satisfied: murmurhash<1.1.0,>=0.28.0 in /usr/local/lib/python3.10/dist-packages (from spacy) (1.0.10)\n",
            "Requirement already satisfied: cymem<2.1.0,>=2.0.2 in /usr/local/lib/python3.10/dist-packages (from spacy) (2.0.8)\n",
            "Requirement already satisfied: preshed<3.1.0,>=3.0.2 in /usr/local/lib/python3.10/dist-packages (from spacy) (3.0.9)\n",
            "Requirement already satisfied: thinc<8.3.0,>=8.2.2 in /usr/local/lib/python3.10/dist-packages (from spacy) (8.2.5)\n",
            "Requirement already satisfied: wasabi<1.2.0,>=0.9.1 in /usr/local/lib/python3.10/dist-packages (from spacy) (1.1.3)\n",
            "Requirement already satisfied: srsly<3.0.0,>=2.4.3 in /usr/local/lib/python3.10/dist-packages (from spacy) (2.4.8)\n",
            "Requirement already satisfied: catalogue<2.1.0,>=2.0.6 in /usr/local/lib/python3.10/dist-packages (from spacy) (2.0.10)\n",
            "Requirement already satisfied: weasel<0.5.0,>=0.1.0 in /usr/local/lib/python3.10/dist-packages (from spacy) (0.4.1)\n",
            "Requirement already satisfied: typer<1.0.0,>=0.3.0 in /usr/local/lib/python3.10/dist-packages (from spacy) (0.12.3)\n",
            "Requirement already satisfied: tqdm<5.0.0,>=4.38.0 in /usr/local/lib/python3.10/dist-packages (from spacy) (4.66.4)\n",
            "Requirement already satisfied: requests<3.0.0,>=2.13.0 in /usr/local/lib/python3.10/dist-packages (from spacy) (2.31.0)\n",
            "Requirement already satisfied: pydantic!=1.8,!=1.8.1,<3.0.0,>=1.7.4 in /usr/local/lib/python3.10/dist-packages (from spacy) (2.8.2)\n",
            "Requirement already satisfied: jinja2 in /usr/local/lib/python3.10/dist-packages (from spacy) (3.1.4)\n",
            "Requirement already satisfied: setuptools in /usr/local/lib/python3.10/dist-packages (from spacy) (71.0.4)\n",
            "Requirement already satisfied: packaging>=20.0 in /usr/local/lib/python3.10/dist-packages (from spacy) (24.1)\n",
            "Requirement already satisfied: langcodes<4.0.0,>=3.2.0 in /usr/local/lib/python3.10/dist-packages (from spacy) (3.4.0)\n",
            "Requirement already satisfied: numpy>=1.19.0 in /usr/local/lib/python3.10/dist-packages (from spacy) (1.26.4)\n",
            "Requirement already satisfied: language-data>=1.2 in /usr/local/lib/python3.10/dist-packages (from langcodes<4.0.0,>=3.2.0->spacy) (1.2.0)\n",
            "Requirement already satisfied: annotated-types>=0.4.0 in /usr/local/lib/python3.10/dist-packages (from pydantic!=1.8,!=1.8.1,<3.0.0,>=1.7.4->spacy) (0.7.0)\n",
            "Requirement already satisfied: pydantic-core==2.20.1 in /usr/local/lib/python3.10/dist-packages (from pydantic!=1.8,!=1.8.1,<3.0.0,>=1.7.4->spacy) (2.20.1)\n",
            "Requirement already satisfied: typing-extensions>=4.6.1 in /usr/local/lib/python3.10/dist-packages (from pydantic!=1.8,!=1.8.1,<3.0.0,>=1.7.4->spacy) (4.12.2)\n",
            "Requirement already satisfied: charset-normalizer<4,>=2 in /usr/local/lib/python3.10/dist-packages (from requests<3.0.0,>=2.13.0->spacy) (3.3.2)\n",
            "Requirement already satisfied: idna<4,>=2.5 in /usr/local/lib/python3.10/dist-packages (from requests<3.0.0,>=2.13.0->spacy) (3.7)\n",
            "Requirement already satisfied: urllib3<3,>=1.21.1 in /usr/local/lib/python3.10/dist-packages (from requests<3.0.0,>=2.13.0->spacy) (2.0.7)\n",
            "Requirement already satisfied: certifi>=2017.4.17 in /usr/local/lib/python3.10/dist-packages (from requests<3.0.0,>=2.13.0->spacy) (2024.7.4)\n",
            "Requirement already satisfied: blis<0.8.0,>=0.7.8 in /usr/local/lib/python3.10/dist-packages (from thinc<8.3.0,>=8.2.2->spacy) (0.7.11)\n",
            "Requirement already satisfied: confection<1.0.0,>=0.0.1 in /usr/local/lib/python3.10/dist-packages (from thinc<8.3.0,>=8.2.2->spacy) (0.1.5)\n",
            "Requirement already satisfied: click>=8.0.0 in /usr/local/lib/python3.10/dist-packages (from typer<1.0.0,>=0.3.0->spacy) (8.1.7)\n",
            "Requirement already satisfied: shellingham>=1.3.0 in /usr/local/lib/python3.10/dist-packages (from typer<1.0.0,>=0.3.0->spacy) (1.5.4)\n",
            "Requirement already satisfied: rich>=10.11.0 in /usr/local/lib/python3.10/dist-packages (from typer<1.0.0,>=0.3.0->spacy) (13.7.1)\n",
            "Requirement already satisfied: cloudpathlib<1.0.0,>=0.7.0 in /usr/local/lib/python3.10/dist-packages (from weasel<0.5.0,>=0.1.0->spacy) (0.18.1)\n",
            "Requirement already satisfied: smart-open<8.0.0,>=5.2.1 in /usr/local/lib/python3.10/dist-packages (from weasel<0.5.0,>=0.1.0->spacy) (7.0.4)\n",
            "Requirement already satisfied: MarkupSafe>=2.0 in /usr/local/lib/python3.10/dist-packages (from jinja2->spacy) (2.1.5)\n",
            "Requirement already satisfied: marisa-trie>=0.7.7 in /usr/local/lib/python3.10/dist-packages (from language-data>=1.2->langcodes<4.0.0,>=3.2.0->spacy) (1.2.0)\n",
            "Requirement already satisfied: markdown-it-py>=2.2.0 in /usr/local/lib/python3.10/dist-packages (from rich>=10.11.0->typer<1.0.0,>=0.3.0->spacy) (3.0.0)\n",
            "Requirement already satisfied: pygments<3.0.0,>=2.13.0 in /usr/local/lib/python3.10/dist-packages (from rich>=10.11.0->typer<1.0.0,>=0.3.0->spacy) (2.16.1)\n",
            "Requirement already satisfied: wrapt in /usr/local/lib/python3.10/dist-packages (from smart-open<8.0.0,>=5.2.1->weasel<0.5.0,>=0.1.0->spacy) (1.16.0)\n",
            "Requirement already satisfied: mdurl~=0.1 in /usr/local/lib/python3.10/dist-packages (from markdown-it-py>=2.2.0->rich>=10.11.0->typer<1.0.0,>=0.3.0->spacy) (0.1.2)\n"
          ]
        }
      ],
      "source": [
        "!pip install spacy\n",
        "\n"
      ]
    },
    {
      "cell_type": "code",
      "source": [
        "import spacy\n",
        "\n",
        "# Load the pre-trained model\n",
        "nlp = spacy.load(\"en_core_web_sm\")\n",
        "\n",
        "# Sample text\n",
        "text = \"Apple is looking at buying U.K. startup for $1 billion\"\n",
        "\n",
        "# Process the text\n",
        "doc = nlp(text)\n",
        "\n",
        "# Print detected entities\n",
        "for ent in doc.ents:\n",
        "    print(ent.text, ent.label_)\n"
      ],
      "metadata": {
        "colab": {
          "base_uri": "https://localhost:8080/"
        },
        "id": "wP4sYES-cETg",
        "outputId": "6e7a9441-0bcf-4326-bf58-d64d7d03e77c"
      },
      "execution_count": 5,
      "outputs": [
        {
          "output_type": "stream",
          "name": "stdout",
          "text": [
            "Apple ORG\n",
            "U.K. GPE\n",
            "$1 billion MONEY\n"
          ]
        }
      ]
    },
    {
      "cell_type": "code",
      "source": [
        "import spacy\n",
        "\n",
        "# Load the pre-trained model\n",
        "nlp = spacy.load(\"en_core_web_sm\")\n",
        "\n",
        "# Sample text\n",
        "text = \"G4-3 Report the name of the organization.. 43\"\n",
        "\n",
        "# Process the text\n",
        "doc = nlp(text)\n",
        "\n",
        "# Print detected entities\n",
        "for ent in doc.ents:\n",
        "    print(ent.text, ent.label_)\n"
      ],
      "metadata": {
        "colab": {
          "base_uri": "https://localhost:8080/"
        },
        "id": "e7Nz2J8xcF22",
        "outputId": "f0b2c751-8169-4401-ef4b-0023d5e30eb8"
      },
      "execution_count": 6,
      "outputs": [
        {
          "output_type": "stream",
          "name": "stdout",
          "text": [
            "G4 CARDINAL\n",
            "43 CARDINAL\n"
          ]
        }
      ]
    },
    {
      "cell_type": "markdown",
      "source": [
        "# Training a Custom NER Model"
      ],
      "metadata": {
        "id": "G6ibocGndApg"
      }
    },
    {
      "cell_type": "code",
      "source": [
        "text = \"G4-1 CEO statement Letter to Stockhold-ers / p. 8 et seqq\""
      ],
      "metadata": {
        "id": "5c_eowqMtbyR"
      },
      "execution_count": 7,
      "outputs": []
    },
    {
      "cell_type": "code",
      "source": [
        "text[48:49]"
      ],
      "metadata": {
        "colab": {
          "base_uri": "https://localhost:8080/",
          "height": 35
        },
        "id": "2Ka5z9HuteGz",
        "outputId": "9e57c02f-36c3-45b6-c979-3fc7f8772684"
      },
      "execution_count": 8,
      "outputs": [
        {
          "output_type": "execute_result",
          "data": {
            "text/plain": [
              "'8'"
            ],
            "application/vnd.google.colaboratory.intrinsic+json": {
              "type": "string"
            }
          },
          "metadata": {},
          "execution_count": 8
        }
      ]
    },
    {
      "cell_type": "code",
      "source": [
        "TRAIN_DATA = [\n",
        "    (\"G4-3 Report the name of the organization.. 43\", {\"entities\": [(0, 4, \"gri_standard\"), (43, 45, \"page_reference\")]}),\n",
        "    (\"G4-4 Report the primary brands, products, and services. 26\", {\"entities\": [(0, 4, \"gri_standard\"), (56, 58, \"page_reference\")]}),\n",
        "    (\"G4-8 Report the markets served (including geographic breakdown, sectors served, and types of customers and beneficiaries). 6\", {\"entities\": [(0, 4, \"gri_standard\"), (123, 125, \"page_reference\")]}),\n",
        "    (\"G4-16 List memberships of associations (such as industry associations) and national or international advocacy organizations in which the organization is involved. 39). 6\", {\"entities\": [(0, 5, \"gri_standard\"), (168, 169, \"page_reference\")]}),\n",
        "\n",
        "    (\"G4-1 CEO statement Letter to Stockhold-ers / p. 8 et seqq\", {\"entities\": [(0, 4, \"gri_standard\"), (48, 49, \"page_reference\")]}),\n",
        "    (\"G4-3 Name of the organization Section 1 Structure /p. 54 et seqq.\", {\"entities\": [(0, 4, \"gri_standard\"), (54, 56, \"page_reference\")]}),\n",
        "    (\"G4-9 Scale of the organization Section 1 Structure /p. 54 et seqq.; section 13 Business Development / p. 76 et seqq.; section 17 Net Assets / p. 89 et seqq.; section 5 Employ-ees / p. 62 et seqq.\", {\"entities\": [(0, 4, \"gri_standard\"), (55, 57, \"page_reference\"), (105, 107, \"page_reference\"), (145, 147, \"page_reference\"), (184, 186, \"page_reference\")]}),\n",
        "    (\"G4-51 Remuneration policies for highest governance body and senior executivesSection 25 Compensation Report / p.121 et seqq.; section 5 Employ-ees / p. 62 et seqq\", {\"entities\": [(0, 5, \"gri_standard\"), (112, 115, \"page_reference\"), (152, 154, \"page_reference\")]}),\n",
        "    (\"G4-57 Mechanisms for seeking advice on ethical and lawful behaviorSection 24 Compliance / p. 120\", {\"entities\": [(0, 5, \"gri_standard\"), (93, 96, \"page_reference\")]}),\n",
        "\n",
        "    (\"102-1 Name of the Organisation 2.0 ABOUT F-I-R-S-T CARBON SOLUTIONS 2.1 Company Profile 9-10\", {\"entities\": [(0, 5, \"gri_standard\"), (88, 92, \"page_reference\")]}),\n",
        "    (\"102-2 Activities, primary brands, products, and services 2.0 ABOUT F-I-R-S-T CARBON SOLUTIONS 2.1 Company Profile - What We Do 2.5 Product and Services 9 16\", {\"entities\": [(0, 5, \"gri_standard\"), (152, 153, \"page_reference\"), (154, 156, \"page_reference\")]}),\n",
        "    (\"102-5 Ownership and legal form 2.0 ABOUT F-I-R-S-T CARBON SOLUTIONS 2.3 Ownership 12\", {\"entities\": [(0, 5, \"gri_standard\"), (82, 84, \"page_reference\")]}),\n",
        "    (\"102-6 Markets served 6.0 SOCIAL 6.5 Customer Satisfaction 3\", {\"entities\": [(0, 5, \"gri_standard\"), (58, 59, \"page_reference\")]}),\n",
        "    (\"102-15 Key impacts, risks, and opportunities 3.0 MANAGEMENT SYSTEM AND OPERATION 3.2 Risk Management 24-26\", {\"entities\": [(0, 6, \"gri_standard\"), (101, 106, \"page_reference\")]}),\n",
        "\n",
        "    (\"G4-1 Statement from most senior decision maker. From our CEO, page 2\", {\"entities\": [(0, 4, \"gri_standard\"), (67, 68, \"page_reference\")]}),\n",
        "    (\"G4-2 Key impacts, risks and opportunities. Sustainability and our strategy, page 8 Our sustainability priorities, page 11 Our materiality process, page 11 Our client work, page 14 Governance and management, page 90 Principle risks and uncertainties, www.wpp.com/annualreports/ 2016/risks\", {\"entities\": [(0, 4, \"gri_standard\"), (81, 82, \"page_reference\"), (119, 121, \"page_reference\"), (152, 154, \"page_reference\"), (177, 179, \"page_reference\"), (212, 214, \"page_reference\")]}),\n",
        "    (\"G4-5 Location of the organisation‘s headquarters. WPP – Where we are, www.wpp.com/wpp/about/whereweare/\", {\"entities\": [(0, 4, \"gri_standard\")]}),\n",
        "    (\"G4-14 Whether and how the precautionary approach or principle is addressed by the organisation.United Nations Global Compact Index, page 107\", {\"entities\": [(0, 5, \"gri_standard\"), (137, 140, \"page_reference\")]}),\n",
        "    (\"G4-21 The Aspect Boundary outside the organisation for each material Aspect. Our materiality assessment diagram (page 12) indicates the relative importance of each of our material issues to stakeholders. The material Aspects apply equally across stakeholder groups and geographies unless otherwise noted. Our materiality process, page 12 Our sustainability priorities, page 11\", {\"entities\": [(0, 5, \"gri_standard\"), (335, 337, \"page_reference\"), (374, 376, \"page_reference\")]}),\n",
        "\n",
        "    (\"G4-1 Statement from the most senior decision-maker of the organization about the relevance of sustainability to the organization Message from the management\", {\"entities\": [(0, 4, \"gri_standard\"), (129, 156, \"direct_answer\")]}),\n",
        "    (\"G4-2 Description of key impacts, risks, and opportunities Risks and opportunities 16\", {\"entities\": [(0, 4, \"gri_standard\"), (58, 81, \"direct_answer\")]}),\n",
        "    (\"G4-18 Explain the process for defining the report content and the Aspect Boundaries Materiality\", {\"entities\": [(0, 5, \"gri_standard\"), (84, 95, \"direct_answer\")]}),\n",
        "    (\"G4-26 Report the organization’s approach to stakeholder engagement, including frequency of engagement The report\", {\"entities\": [(0, 5, \"gri_standard\"), (102, 112, \"direct_answer\")]}),\n",
        "\n",
        "    (\"EC2 Financial implications and other risks and opportunities for the organization’s activities due to climate changeStrategy and vision of the future, Environmental performance 7 13\", {\"entities\": [(0, 3, \"gri_standard\"), (117, 177, \"direct_answer\")]}),\n",
        "    (\"EN6 Reduction of energy consumption Environmental performance 8, 9 7, 9, 11, 12, 13\", {\"entities\": [(0, 3, \"gri_standard\"), (36, 61, \"direct_answer\")]}),\n",
        "    (\"LA9 Average hours of training per year per employee by gender, and by employee category Social performance 6 5, 8\", {\"entities\": [(0, 3, \"gri_standard\"), (89, 107, \"direct_answer\")]}),\n",
        "    (\"HR1 Total number and percentage of significant investment agreements and contracts that include human rights clauses or that underwent human rights screening Social performance 2 5, 8, 10, 16, 17\", {\"entities\": [(0, 3, \"gri_standard\"), (158, 176, \"direct_answer\")]}),\n",
        "    (\"SO2 Operations with significant actual and potential negative impacts on local communities Social performance 1\", {\"entities\": [(0, 3, \"gri_standard\"), (92, 98, \"direct_answer\")]}),\n",
        "    (\"PR3 Type of product and service information required by the organization’s procedures for product and Social performance 12\", {\"entities\": [(0, 3, \"gri_standard\"), (102, 120, \"direct_answer\")]}),\n",
        "    (\"EU1 Installed capacity, broken down by primary energy source and by regulatory regime Operating performance 7\", {\"entities\": [(0, 3, \"gri_standard\"), (86, 107, \"direct_answer\")]}),\n",
        "    (\"DMA (former EU6) Management approach to ensure short and long-term electricity availability and reliability Operating performance 7, 8\", {\"entities\": [(0, 17, \"gri_standard\"), (109, 130, \"direct_answer\")]}),\n",
        "    (\"EU30 Average plant availability factor by energy source Operating performance 7, 9\", {\"entities\": [(0, 4, \"gri_standard\"), (57, 78, \"direct_answer\")]}),\n",
        "\n",
        "    (\"Employment 401-1 New hires and employee turnover Human Capital (pg 40, 43, 44)\", {\"entities\": [(11, 16, \"gri_standard\"), (67, 69, \"page_reference\"), (71, 73, \"page_reference\"), (75, 77, \"page_reference\")]}),\n",
        "    (\"Public Policy 415-1 Political contributions Organisational Capital (pg 17)\", {\"entities\": [(14, 19, \"gri_standard\"), (71, 73, \"page_reference\")]}),\n",
        "    (\"102-1 Organisation’s name Introduction (pg 4)\", {\"entities\": [(0, 5, \"gri_standard\"), (43, 44, \"page_reference\")]}),\n",
        "\n",
        "\n",
        "    # Add more training examples\n",
        "]\n"
      ],
      "metadata": {
        "id": "SVeEYnoLcvZ8"
      },
      "execution_count": 14,
      "outputs": []
    },
    {
      "cell_type": "code",
      "source": [
        "import spacy\n",
        "from spacy.training.example import Example\n",
        "from spacy.util import minibatch, compounding\n",
        "\n",
        "# Create a blank model\n",
        "nlp = spacy.blank(\"en\")\n",
        "\n",
        "# Add the NER pipeline\n",
        "ner = nlp.add_pipe(\"ner\")\n",
        "\n",
        "# Add new entity labels\n",
        "for _, annotations in TRAIN_DATA:\n",
        "    for ent in annotations.get(\"entities\"):\n",
        "        ner.add_label(ent[2])\n",
        "\n",
        "# Disable other pipelines\n",
        "pipe_exceptions = [\"ner\"]\n",
        "unaffected_pipes = [pipe for pipe in nlp.pipe_names if pipe not in pipe_exceptions]\n",
        "\n",
        "# Begin training\n",
        "with nlp.disable_pipes(*unaffected_pipes):\n",
        "    optimizer = nlp.begin_training()\n",
        "    for itn in range(100):  # Number of iterations\n",
        "        losses = {}\n",
        "        batches = minibatch(TRAIN_DATA, size=compounding(4.0, 32.0, 1.001))\n",
        "        for batch in batches:\n",
        "            texts, annotations = zip(*batch)\n",
        "            example = [Example.from_dict(nlp.make_doc(text), ann) for text, ann in zip(texts, annotations)]\n",
        "            nlp.update(example, drop=0.5, losses=losses)\n",
        "        print(f\"Iteration {itn}, Losses: {losses}\")\n",
        "\n",
        "# Save the model\n",
        "nlp.to_disk(\"custom_ner_model\")\n",
        "\n",
        "# Load the trained model\n",
        "nlp = spacy.load(\"custom_ner_model\")\n",
        "\n",
        "\n"
      ],
      "metadata": {
        "colab": {
          "base_uri": "https://localhost:8080/"
        },
        "id": "IxSEiMOMdhqU",
        "outputId": "2bb15df1-5830-40ed-edcf-de4bf9bedea1"
      },
      "execution_count": 15,
      "outputs": [
        {
          "output_type": "stream",
          "name": "stderr",
          "text": [
            "/usr/local/lib/python3.10/dist-packages/spacy/training/iob_utils.py:149: UserWarning: [W030] Some entities could not be aligned in the text \"G4-8 Report the markets served (including geograph...\" with entities \"[(0, 4, 'gri_standard'), (123, 125, 'page_referenc...\". Use `spacy.training.offsets_to_biluo_tags(nlp.make_doc(text), entities)` to check the alignment. Misaligned entities ('-') will be ignored during training.\n",
            "  warnings.warn(\n",
            "/usr/local/lib/python3.10/dist-packages/spacy/training/iob_utils.py:149: UserWarning: [W030] Some entities could not be aligned in the text \"G4-51 Remuneration policies for highest governance...\" with entities \"[(0, 5, 'gri_standard'), (112, 115, 'page_referenc...\". Use `spacy.training.offsets_to_biluo_tags(nlp.make_doc(text), entities)` to check the alignment. Misaligned entities ('-') will be ignored during training.\n",
            "  warnings.warn(\n",
            "/usr/local/lib/python3.10/dist-packages/spacy/training/iob_utils.py:149: UserWarning: [W030] Some entities could not be aligned in the text \"EC2 Financial implications and other risks and opp...\" with entities \"[(0, 3, 'gri_standard'), (117, 177, 'direct_answer...\". Use `spacy.training.offsets_to_biluo_tags(nlp.make_doc(text), entities)` to check the alignment. Misaligned entities ('-') will be ignored during training.\n",
            "  warnings.warn(\n",
            "/usr/local/lib/python3.10/dist-packages/spacy/training/iob_utils.py:149: UserWarning: [W030] Some entities could not be aligned in the text \"LA9 Average hours of training per year per employe...\" with entities \"[(0, 3, 'gri_standard'), (89, 107, 'direct_answer'...\". Use `spacy.training.offsets_to_biluo_tags(nlp.make_doc(text), entities)` to check the alignment. Misaligned entities ('-') will be ignored during training.\n",
            "  warnings.warn(\n",
            "/usr/local/lib/python3.10/dist-packages/spacy/training/iob_utils.py:149: UserWarning: [W030] Some entities could not be aligned in the text \"SO2 Operations with significant actual and potenti...\" with entities \"[(0, 3, 'gri_standard'), (92, 98, 'direct_answer')...\". Use `spacy.training.offsets_to_biluo_tags(nlp.make_doc(text), entities)` to check the alignment. Misaligned entities ('-') will be ignored during training.\n",
            "  warnings.warn(\n",
            "/usr/local/lib/python3.10/dist-packages/spacy/training/iob_utils.py:149: UserWarning: [W030] Some entities could not be aligned in the text \"DMA (former EU6) Management approach to ensure sho...\" with entities \"[(0, 17, 'gri_standard'), (109, 130, 'direct_answe...\". Use `spacy.training.offsets_to_biluo_tags(nlp.make_doc(text), entities)` to check the alignment. Misaligned entities ('-') will be ignored during training.\n",
            "  warnings.warn(\n",
            "/usr/local/lib/python3.10/dist-packages/spacy/training/iob_utils.py:149: UserWarning: [W030] Some entities could not be aligned in the text \"EU30 Average plant availability factor by energy s...\" with entities \"[(0, 4, 'gri_standard'), (57, 78, 'direct_answer')...\". Use `spacy.training.offsets_to_biluo_tags(nlp.make_doc(text), entities)` to check the alignment. Misaligned entities ('-') will be ignored during training.\n",
            "  warnings.warn(\n"
          ]
        },
        {
          "output_type": "stream",
          "name": "stdout",
          "text": [
            "Iteration 0, Losses: {'ner': 645.4257341176271}\n",
            "Iteration 1, Losses: {'ner': 250.24716791074025}\n",
            "Iteration 2, Losses: {'ner': 135.6443698567698}\n",
            "Iteration 3, Losses: {'ner': 126.05651958554708}\n",
            "Iteration 4, Losses: {'ner': 165.21568637897406}\n",
            "Iteration 5, Losses: {'ner': 271.5817520400801}\n",
            "Iteration 6, Losses: {'ner': 185.16499995960913}\n",
            "Iteration 7, Losses: {'ner': 118.91198688101508}\n",
            "Iteration 8, Losses: {'ner': 89.96307430723705}\n",
            "Iteration 9, Losses: {'ner': 80.37369833912298}\n",
            "Iteration 10, Losses: {'ner': 69.83993126454689}\n",
            "Iteration 11, Losses: {'ner': 64.84802749585216}\n",
            "Iteration 12, Losses: {'ner': 55.59308618481889}\n",
            "Iteration 13, Losses: {'ner': 51.149374878867945}\n",
            "Iteration 14, Losses: {'ner': 42.45952409364762}\n",
            "Iteration 15, Losses: {'ner': 52.918349126278756}\n",
            "Iteration 16, Losses: {'ner': 42.06134722784698}\n",
            "Iteration 17, Losses: {'ner': 38.61182277454285}\n",
            "Iteration 18, Losses: {'ner': 39.972346608605186}\n",
            "Iteration 19, Losses: {'ner': 34.421126292212364}\n",
            "Iteration 20, Losses: {'ner': 27.859287243339086}\n",
            "Iteration 21, Losses: {'ner': 40.42645047200563}\n",
            "Iteration 22, Losses: {'ner': 36.98658172049356}\n",
            "Iteration 23, Losses: {'ner': 36.282762037127156}\n",
            "Iteration 24, Losses: {'ner': 36.36839278823494}\n",
            "Iteration 25, Losses: {'ner': 35.9857359519408}\n",
            "Iteration 26, Losses: {'ner': 26.68849466908533}\n",
            "Iteration 27, Losses: {'ner': 28.801675221116728}\n",
            "Iteration 28, Losses: {'ner': 25.197615521143582}\n",
            "Iteration 29, Losses: {'ner': 27.19929937636645}\n",
            "Iteration 30, Losses: {'ner': 18.27768180034195}\n",
            "Iteration 31, Losses: {'ner': 31.737292494847164}\n",
            "Iteration 32, Losses: {'ner': 39.16199143560199}\n",
            "Iteration 33, Losses: {'ner': 24.035509231593345}\n",
            "Iteration 34, Losses: {'ner': 37.72243291135046}\n",
            "Iteration 35, Losses: {'ner': 19.05331777373449}\n",
            "Iteration 36, Losses: {'ner': 17.747295882274152}\n",
            "Iteration 37, Losses: {'ner': 12.423807537550951}\n",
            "Iteration 38, Losses: {'ner': 21.11163879263407}\n",
            "Iteration 39, Losses: {'ner': 18.27116472319387}\n",
            "Iteration 40, Losses: {'ner': 9.824311057675132}\n",
            "Iteration 41, Losses: {'ner': 17.8795741869596}\n",
            "Iteration 42, Losses: {'ner': 13.983607580773274}\n",
            "Iteration 43, Losses: {'ner': 21.198423601346427}\n",
            "Iteration 44, Losses: {'ner': 15.615196282818347}\n",
            "Iteration 45, Losses: {'ner': 14.325371346366245}\n",
            "Iteration 46, Losses: {'ner': 14.132790853723899}\n",
            "Iteration 47, Losses: {'ner': 8.074130932319575}\n",
            "Iteration 48, Losses: {'ner': 17.660685478123685}\n",
            "Iteration 49, Losses: {'ner': 20.339261804819984}\n",
            "Iteration 50, Losses: {'ner': 8.413060283328818}\n",
            "Iteration 51, Losses: {'ner': 7.8574107453795}\n",
            "Iteration 52, Losses: {'ner': 10.42047260963575}\n",
            "Iteration 53, Losses: {'ner': 9.958775628508878}\n",
            "Iteration 54, Losses: {'ner': 13.61526787515351}\n",
            "Iteration 55, Losses: {'ner': 17.35045030194641}\n",
            "Iteration 56, Losses: {'ner': 12.739019292386164}\n",
            "Iteration 57, Losses: {'ner': 7.586441739249118}\n",
            "Iteration 58, Losses: {'ner': 5.240544631815757}\n",
            "Iteration 59, Losses: {'ner': 4.49565782833917}\n",
            "Iteration 60, Losses: {'ner': 7.6707960302472795}\n",
            "Iteration 61, Losses: {'ner': 4.983987697884341}\n",
            "Iteration 62, Losses: {'ner': 9.414302339307579}\n",
            "Iteration 63, Losses: {'ner': 6.59382579410417}\n",
            "Iteration 64, Losses: {'ner': 13.858162247348869}\n",
            "Iteration 65, Losses: {'ner': 2.807827953793267}\n",
            "Iteration 66, Losses: {'ner': 14.375824979990371}\n",
            "Iteration 67, Losses: {'ner': 10.381379331826228}\n",
            "Iteration 68, Losses: {'ner': 5.70677194820895}\n",
            "Iteration 69, Losses: {'ner': 0.6027436567769949}\n",
            "Iteration 70, Losses: {'ner': 14.490252173239067}\n",
            "Iteration 71, Losses: {'ner': 6.544465240067899}\n",
            "Iteration 72, Losses: {'ner': 3.3327345520913148}\n",
            "Iteration 73, Losses: {'ner': 3.1506035847666047}\n",
            "Iteration 74, Losses: {'ner': 6.469447666296744}\n",
            "Iteration 75, Losses: {'ner': 2.515279972756556}\n",
            "Iteration 76, Losses: {'ner': 2.455789769786379}\n",
            "Iteration 77, Losses: {'ner': 9.044594258305194}\n",
            "Iteration 78, Losses: {'ner': 11.536971627345999}\n",
            "Iteration 79, Losses: {'ner': 0.3105889201075626}\n",
            "Iteration 80, Losses: {'ner': 4.49843625229984}\n",
            "Iteration 81, Losses: {'ner': 6.646014374147876}\n",
            "Iteration 82, Losses: {'ner': 4.6985879942234385}\n",
            "Iteration 83, Losses: {'ner': 2.3969414255310055}\n",
            "Iteration 84, Losses: {'ner': 2.153363509409237}\n",
            "Iteration 85, Losses: {'ner': 7.346093487801047}\n",
            "Iteration 86, Losses: {'ner': 3.5115994611297134}\n",
            "Iteration 87, Losses: {'ner': 6.544367637153522}\n",
            "Iteration 88, Losses: {'ner': 2.1938362686523254}\n",
            "Iteration 89, Losses: {'ner': 5.765453608464515}\n",
            "Iteration 90, Losses: {'ner': 2.166714696437948}\n",
            "Iteration 91, Losses: {'ner': 4.019505432376845}\n",
            "Iteration 92, Losses: {'ner': 4.780526563335047}\n",
            "Iteration 93, Losses: {'ner': 0.501363043427243}\n",
            "Iteration 94, Losses: {'ner': 1.6642166502411144}\n",
            "Iteration 95, Losses: {'ner': 3.9028158724531528}\n",
            "Iteration 96, Losses: {'ner': 5.581586150220934}\n",
            "Iteration 97, Losses: {'ner': 2.939590138888124}\n",
            "Iteration 98, Losses: {'ner': 0.5295991837950855}\n",
            "Iteration 99, Losses: {'ner': 7.3400835676315985}\n"
          ]
        }
      ]
    },
    {
      "cell_type": "code",
      "source": [
        "# Test the model\n",
        "doc = nlp(\"G4-9 Scale of the organization Section 1 Structure /p. 54 et seqq.; section 13 Business Development / p. 76 et seqq.\")\n",
        "for ent in doc.ents:\n",
        "    print(ent.text, ent.label_)"
      ],
      "metadata": {
        "colab": {
          "base_uri": "https://localhost:8080/"
        },
        "id": "UbUq9xvJd0HE",
        "outputId": "e5fe1539-6f8d-433c-91f1-e5cf07e914a9"
      },
      "execution_count": 16,
      "outputs": [
        {
          "output_type": "stream",
          "name": "stdout",
          "text": [
            "G4-9 gri_standard\n",
            "54 page_reference\n",
            "76 page_reference\n"
          ]
        }
      ]
    },
    {
      "cell_type": "markdown",
      "source": [
        "# Evaluation"
      ],
      "metadata": {
        "id": "qZP3jSE5wLF1"
      }
    },
    {
      "cell_type": "code",
      "source": [
        "import spacy\n",
        "from spacy.training.example import Example\n",
        "from spacy.util import minibatch, compounding\n",
        "from spacy.scorer import Scorer\n",
        "\n",
        "# Load the trained model\n",
        "nlp = spacy.load(\"custom_ner_model\")\n",
        "\n",
        "# Evaluation data (similar format to TRAIN_DATA)\n",
        "EVAL_DATA = [\n",
        "    (\"G4-2 Report the number of employees. 24\", {\"entities\": [(0, 4, \"gri_standard\"), (35, 37, \"page_reference\")]}),\n",
        "    (\"G4-10 Report the total workforce by employment type, employment contract, and region, broken down by gender. 18\", {\"entities\": [(0, 5, \"gri_standard\"), (107, 109, \"page_reference\")]}),\n",
        "    (\"G4-14 Whether and how the precautionary approach or principle is addressed by the organisation.United Nations Global Compact Index, page 107\", {\"entities\": [(0, 5, \"gri_standard\"), (137, 140, \"page_reference\")]}),\n",
        "    (\"G4-1 CEO statement Letter to Stockhold-ers / p. 8 et seqq\", {\"entities\": [(0, 4, \"gri_standard\"), (48, 49, \"page_reference\")]}),\n",
        "    (\"102-1 Name of the Organisation 2.0 ABOUT F-I-R-S-T CARBON SOLUTIONS 2.1 Company Profile 9-10\", {\"entities\": [(0, 5, \"gri_standard\"), (88, 92, \"page_reference\")]}),\n",
        "    (\"G4-18 Explain the process for defining the report content and the Aspect Boundaries Materiality\", {\"entities\": [(0, 5, \"gri_standard\"), (84, 95, \"direct_answer\")]}),\n",
        "    (\"SO2 Operations with significant actual and potential negative impacts on local communities Social performance 1\", {\"entities\": [(0, 3, \"gri_standard\"), (92, 98, \"direct_answer\")]}),\n",
        "    (\"Employment 401-1 New hires and employee turnover Human Capital (pg 40, 43, 44)\", {\"entities\": [(11, 16, \"gri_standard\"), (67, 69, \"page_reference\"), (71, 73, \"page_reference\"), (75, 77, \"page_reference\")]})\n",
        "\n",
        "\n",
        "    # Add more evaluation examples\n",
        "]\n",
        "\n",
        "# Function to evaluate the model\n",
        "def evaluate_model(nlp, eval_data):\n",
        "    scorer = Scorer()\n",
        "    examples = []\n",
        "    for text, annotations in eval_data:\n",
        "        example = Example.from_dict(nlp.make_doc(text), annotations)\n",
        "        examples.append(example)\n",
        "\n",
        "    scores = nlp.evaluate(examples)\n",
        "    return scores\n",
        "\n",
        "# Evaluate the model\n",
        "scores = evaluate_model(nlp, EVAL_DATA)\n",
        "\n",
        "# Print evaluation scores\n",
        "print(\"Overall Evaluation Scores:\")\n",
        "print(scores)\n",
        "\n",
        "# Print detailed entity-level scores\n",
        "print(\"\\nEntity-level Evaluation Scores:\")\n",
        "for ent_type, ent_scores in scores[\"ents_per_type\"].items():\n",
        "    print(f\"{ent_type}: {ent_scores}\")\n"
      ],
      "metadata": {
        "colab": {
          "base_uri": "https://localhost:8080/"
        },
        "id": "7E2qhMU_snZy",
        "outputId": "c53ff6cd-d294-488f-d3c7-b2d25a0af8a5"
      },
      "execution_count": 20,
      "outputs": [
        {
          "output_type": "stream",
          "name": "stdout",
          "text": [
            "Overall Evaluation Scores:\n",
            "{'token_acc': 1.0, 'token_p': 1.0, 'token_r': 1.0, 'token_f': 1.0, 'ents_p': 0.8823529411764706, 'ents_r': 1.0, 'ents_f': 0.9375, 'ents_per_type': {'gri_standard': {'p': 1.0, 'r': 1.0, 'f': 1.0}, 'page_reference': {'p': 0.75, 'r': 1.0, 'f': 0.8571428571428571}, 'direct_answer': {'p': 1.0, 'r': 1.0, 'f': 1.0}}, 'speed': 12233.533785102554}\n",
            "\n",
            "Entity-level Evaluation Scores:\n",
            "gri_standard: {'p': 1.0, 'r': 1.0, 'f': 1.0}\n",
            "page_reference: {'p': 0.75, 'r': 1.0, 'f': 0.8571428571428571}\n",
            "direct_answer: {'p': 1.0, 'r': 1.0, 'f': 1.0}\n"
          ]
        }
      ]
    },
    {
      "cell_type": "markdown",
      "source": [
        "The evaluation scores provide insights into how well your custom Named Entity Recognition (NER) model is performing. Here’s what each part of the output means:\n",
        "\n",
        "### Overall Evaluation Scores:\n",
        "- **token_acc**: The accuracy of tokenization. A score of 1.0 means perfect tokenization.\n",
        "- **token_p**: The precision of tokenization. A score of 1.0 indicates perfect precision.\n",
        "- **token_r**: The recall of tokenization. A score of 1.0 indicates perfect recall.\n",
        "- **token_f**: The F1 score of tokenization. A score of 1.0 indicates perfect F1 score.\n",
        "- **ents_p**: The overall precision for entity recognition. A score of 0.5 means that 50% of the entities predicted by the model are correct.\n",
        "- **ents_r**: The overall recall for entity recognition. A score of 1.0 means that the model identified all the entities correctly.\n",
        "- **ents_f**: The overall F1 score for entity recognition. An F1 score of 0.666 indicates a balance between precision and recall.\n",
        "- **ents_per_type**: Detailed scores for each entity type.\n",
        "\n",
        "### Entity-level Evaluation Scores:\n",
        "- **gri_standard**:\n",
        "  - **p** (precision): 1.0 - The model correctly identified all instances of the `gri_standard` entity type.\n",
        "  - **r** (recall): 1.0 - The model found all the `gri_standard` entities in the evaluation data.\n",
        "  - **f** (F1 score): 1.0 - The F1 score combines precision and recall into a single metric, and a score of 1.0 indicates perfect performance for this entity type.\n",
        "- **page_reference**:\n",
        "  - **p** (precision): 0.0 - The model did not correctly identify any instances of the `page_reference` entity type.\n",
        "  - **r** (recall): 0.0 - The model did not find any of the `page_reference` entities in the evaluation data.\n",
        "  - **f** (F1 score): 0.0 - The F1 score indicates very poor performance for this entity type.\n"
      ],
      "metadata": {
        "id": "EPvMQGPSx665"
      }
    },
    {
      "cell_type": "code",
      "source": [],
      "metadata": {
        "id": "eREjdvFFwfu8"
      },
      "execution_count": null,
      "outputs": []
    }
  ]
}