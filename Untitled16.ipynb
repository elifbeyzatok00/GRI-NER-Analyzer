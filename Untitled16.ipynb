{
  "nbformat": 4,
  "nbformat_minor": 0,
  "metadata": {
    "colab": {
      "provenance": [],
      "authorship_tag": "ABX9TyN6vW98vQA2d8ZOjRjRNhAg",
      "include_colab_link": true
    },
    "kernelspec": {
      "name": "python3",
      "display_name": "Python 3"
    },
    "language_info": {
      "name": "python"
    }
  },
  "cells": [
    {
      "cell_type": "markdown",
      "metadata": {
        "id": "view-in-github",
        "colab_type": "text"
      },
      "source": [
        "<a href=\"https://colab.research.google.com/github/elifbeyzatok00/GRI_Detection_and_Merger/blob/main/Untitled16.ipynb\" target=\"_parent\"><img src=\"https://colab.research.google.com/assets/colab-badge.svg\" alt=\"Open In Colab\"/></a>"
      ]
    },
    {
      "cell_type": "code",
      "source": [
        "!pip install pymupdf"
      ],
      "metadata": {
        "colab": {
          "base_uri": "https://localhost:8080/"
        },
        "id": "0gRFvV933B7-",
        "outputId": "9b46f035-8f71-467b-c3db-dd7d10b85867"
      },
      "execution_count": 10,
      "outputs": [
        {
          "output_type": "stream",
          "name": "stdout",
          "text": [
            "Collecting pymupdf\n",
            "  Downloading PyMuPDF-1.24.9-cp310-none-manylinux2014_x86_64.whl.metadata (3.4 kB)\n",
            "Collecting PyMuPDFb==1.24.9 (from pymupdf)\n",
            "  Downloading PyMuPDFb-1.24.9-py3-none-manylinux2014_x86_64.manylinux_2_17_x86_64.whl.metadata (1.4 kB)\n",
            "Downloading PyMuPDF-1.24.9-cp310-none-manylinux2014_x86_64.whl (3.5 MB)\n",
            "\u001b[2K   \u001b[90m━━━━━━━━━━━━━━━━━━━━━━━━━━━━━━━━━━━━━━━━\u001b[0m \u001b[32m3.5/3.5 MB\u001b[0m \u001b[31m11.7 MB/s\u001b[0m eta \u001b[36m0:00:00\u001b[0m\n",
            "\u001b[?25hDownloading PyMuPDFb-1.24.9-py3-none-manylinux2014_x86_64.manylinux_2_17_x86_64.whl (15.9 MB)\n",
            "\u001b[2K   \u001b[90m━━━━━━━━━━━━━━━━━━━━━━━━━━━━━━━━━━━━━━━━\u001b[0m \u001b[32m15.9/15.9 MB\u001b[0m \u001b[31m52.1 MB/s\u001b[0m eta \u001b[36m0:00:00\u001b[0m\n",
            "\u001b[?25hInstalling collected packages: PyMuPDFb, pymupdf\n",
            "Successfully installed PyMuPDFb-1.24.9 pymupdf-1.24.9\n"
          ]
        }
      ]
    },
    {
      "cell_type": "code",
      "source": [
        "!pip install spacy"
      ],
      "metadata": {
        "colab": {
          "base_uri": "https://localhost:8080/"
        },
        "id": "lFkjqpoH1pNc",
        "outputId": "7a078034-698d-4452-da03-7387061a09d1"
      },
      "execution_count": 4,
      "outputs": [
        {
          "output_type": "stream",
          "name": "stdout",
          "text": [
            "Requirement already satisfied: spacy in /usr/local/lib/python3.10/dist-packages (3.7.5)\n",
            "Requirement already satisfied: spacy-legacy<3.1.0,>=3.0.11 in /usr/local/lib/python3.10/dist-packages (from spacy) (3.0.12)\n",
            "Requirement already satisfied: spacy-loggers<2.0.0,>=1.0.0 in /usr/local/lib/python3.10/dist-packages (from spacy) (1.0.5)\n",
            "Requirement already satisfied: murmurhash<1.1.0,>=0.28.0 in /usr/local/lib/python3.10/dist-packages (from spacy) (1.0.10)\n",
            "Requirement already satisfied: cymem<2.1.0,>=2.0.2 in /usr/local/lib/python3.10/dist-packages (from spacy) (2.0.8)\n",
            "Requirement already satisfied: preshed<3.1.0,>=3.0.2 in /usr/local/lib/python3.10/dist-packages (from spacy) (3.0.9)\n",
            "Requirement already satisfied: thinc<8.3.0,>=8.2.2 in /usr/local/lib/python3.10/dist-packages (from spacy) (8.2.5)\n",
            "Requirement already satisfied: wasabi<1.2.0,>=0.9.1 in /usr/local/lib/python3.10/dist-packages (from spacy) (1.1.3)\n",
            "Requirement already satisfied: srsly<3.0.0,>=2.4.3 in /usr/local/lib/python3.10/dist-packages (from spacy) (2.4.8)\n",
            "Requirement already satisfied: catalogue<2.1.0,>=2.0.6 in /usr/local/lib/python3.10/dist-packages (from spacy) (2.0.10)\n",
            "Requirement already satisfied: weasel<0.5.0,>=0.1.0 in /usr/local/lib/python3.10/dist-packages (from spacy) (0.4.1)\n",
            "Requirement already satisfied: typer<1.0.0,>=0.3.0 in /usr/local/lib/python3.10/dist-packages (from spacy) (0.12.3)\n",
            "Requirement already satisfied: tqdm<5.0.0,>=4.38.0 in /usr/local/lib/python3.10/dist-packages (from spacy) (4.66.4)\n",
            "Requirement already satisfied: requests<3.0.0,>=2.13.0 in /usr/local/lib/python3.10/dist-packages (from spacy) (2.31.0)\n",
            "Requirement already satisfied: pydantic!=1.8,!=1.8.1,<3.0.0,>=1.7.4 in /usr/local/lib/python3.10/dist-packages (from spacy) (2.8.2)\n",
            "Requirement already satisfied: jinja2 in /usr/local/lib/python3.10/dist-packages (from spacy) (3.1.4)\n",
            "Requirement already satisfied: setuptools in /usr/local/lib/python3.10/dist-packages (from spacy) (71.0.4)\n",
            "Requirement already satisfied: packaging>=20.0 in /usr/local/lib/python3.10/dist-packages (from spacy) (24.1)\n",
            "Requirement already satisfied: langcodes<4.0.0,>=3.2.0 in /usr/local/lib/python3.10/dist-packages (from spacy) (3.4.0)\n",
            "Requirement already satisfied: numpy>=1.19.0 in /usr/local/lib/python3.10/dist-packages (from spacy) (1.26.4)\n",
            "Requirement already satisfied: language-data>=1.2 in /usr/local/lib/python3.10/dist-packages (from langcodes<4.0.0,>=3.2.0->spacy) (1.2.0)\n",
            "Requirement already satisfied: annotated-types>=0.4.0 in /usr/local/lib/python3.10/dist-packages (from pydantic!=1.8,!=1.8.1,<3.0.0,>=1.7.4->spacy) (0.7.0)\n",
            "Requirement already satisfied: pydantic-core==2.20.1 in /usr/local/lib/python3.10/dist-packages (from pydantic!=1.8,!=1.8.1,<3.0.0,>=1.7.4->spacy) (2.20.1)\n",
            "Requirement already satisfied: typing-extensions>=4.6.1 in /usr/local/lib/python3.10/dist-packages (from pydantic!=1.8,!=1.8.1,<3.0.0,>=1.7.4->spacy) (4.12.2)\n",
            "Requirement already satisfied: charset-normalizer<4,>=2 in /usr/local/lib/python3.10/dist-packages (from requests<3.0.0,>=2.13.0->spacy) (3.3.2)\n",
            "Requirement already satisfied: idna<4,>=2.5 in /usr/local/lib/python3.10/dist-packages (from requests<3.0.0,>=2.13.0->spacy) (3.7)\n",
            "Requirement already satisfied: urllib3<3,>=1.21.1 in /usr/local/lib/python3.10/dist-packages (from requests<3.0.0,>=2.13.0->spacy) (2.0.7)\n",
            "Requirement already satisfied: certifi>=2017.4.17 in /usr/local/lib/python3.10/dist-packages (from requests<3.0.0,>=2.13.0->spacy) (2024.7.4)\n",
            "Requirement already satisfied: blis<0.8.0,>=0.7.8 in /usr/local/lib/python3.10/dist-packages (from thinc<8.3.0,>=8.2.2->spacy) (0.7.11)\n",
            "Requirement already satisfied: confection<1.0.0,>=0.0.1 in /usr/local/lib/python3.10/dist-packages (from thinc<8.3.0,>=8.2.2->spacy) (0.1.5)\n",
            "Requirement already satisfied: click>=8.0.0 in /usr/local/lib/python3.10/dist-packages (from typer<1.0.0,>=0.3.0->spacy) (8.1.7)\n",
            "Requirement already satisfied: shellingham>=1.3.0 in /usr/local/lib/python3.10/dist-packages (from typer<1.0.0,>=0.3.0->spacy) (1.5.4)\n",
            "Requirement already satisfied: rich>=10.11.0 in /usr/local/lib/python3.10/dist-packages (from typer<1.0.0,>=0.3.0->spacy) (13.7.1)\n",
            "Requirement already satisfied: cloudpathlib<1.0.0,>=0.7.0 in /usr/local/lib/python3.10/dist-packages (from weasel<0.5.0,>=0.1.0->spacy) (0.18.1)\n",
            "Requirement already satisfied: smart-open<8.0.0,>=5.2.1 in /usr/local/lib/python3.10/dist-packages (from weasel<0.5.0,>=0.1.0->spacy) (7.0.4)\n",
            "Requirement already satisfied: MarkupSafe>=2.0 in /usr/local/lib/python3.10/dist-packages (from jinja2->spacy) (2.1.5)\n",
            "Requirement already satisfied: marisa-trie>=0.7.7 in /usr/local/lib/python3.10/dist-packages (from language-data>=1.2->langcodes<4.0.0,>=3.2.0->spacy) (1.2.0)\n",
            "Requirement already satisfied: markdown-it-py>=2.2.0 in /usr/local/lib/python3.10/dist-packages (from rich>=10.11.0->typer<1.0.0,>=0.3.0->spacy) (3.0.0)\n",
            "Requirement already satisfied: pygments<3.0.0,>=2.13.0 in /usr/local/lib/python3.10/dist-packages (from rich>=10.11.0->typer<1.0.0,>=0.3.0->spacy) (2.16.1)\n",
            "Requirement already satisfied: wrapt in /usr/local/lib/python3.10/dist-packages (from smart-open<8.0.0,>=5.2.1->weasel<0.5.0,>=0.1.0->spacy) (1.16.0)\n",
            "Requirement already satisfied: mdurl~=0.1 in /usr/local/lib/python3.10/dist-packages (from markdown-it-py>=2.2.0->rich>=10.11.0->typer<1.0.0,>=0.3.0->spacy) (0.1.2)\n"
          ]
        }
      ]
    },
    {
      "cell_type": "code",
      "source": [
        "# -*- coding: utf-8 -*-\n",
        "\"\"\"NER with Spacy for GRI Index Tables and Page References in PDFs\"\"\"\n",
        "\n",
        "import fitz  # PyMuPDF\n",
        "import os\n",
        "import spacy\n",
        "from spacy.training.example import Example\n",
        "from spacy.util import minibatch, compounding\n",
        "\n",
        "# Function to convert color to string\n",
        "def get_color_str(color):\n",
        "    return f\"rgb({color[0]*255:.0f},{color[1]*255:.0f},{color[2]*255:.0f})\"\n",
        "\n",
        "# Function to extract text and annotations from PDF\n",
        "def extract_text_and_annotations(pdf_path):\n",
        "    doc = fitz.open(pdf_path)\n",
        "    all_text = \"\"\n",
        "    entities = []\n",
        "\n",
        "    for page_num in range(len(doc)):\n",
        "        page = doc[page_num]\n",
        "        page_text = page.get_text()\n",
        "        all_text += page_text\n",
        "\n",
        "        annotations = page.annots()\n",
        "        if annotations:\n",
        "            for annot in annotations:\n",
        "                if annot.type[0] == 8:  # Highlight annotation\n",
        "                    color = annot.colors.get('stroke', annot.colors.get('fill', None))\n",
        "                    if color:\n",
        "                        color_str = get_color_str(color)\n",
        "                        text = annot.info.get('content', '')  # Extract highlighted text\n",
        "                        start = page_text.find(text)\n",
        "                        if start != -1:\n",
        "                            end = start + len(text)\n",
        "                            entity = (start, end, \"GRI_Index\" if color_str == 'rgb(255,240,102)' else \"Page_Ref\")\n",
        "                            entities.append(entity)\n",
        "\n",
        "    return all_text, entities\n",
        "\n",
        "# Function to convert data to SpaCy format\n",
        "def convert_to_spacy_format(text, entities):\n",
        "    return [(text, {\"entities\": entities})]\n",
        "\n",
        "# Prepare training data\n",
        "directory_path = '/content/labeled'  # Update this path to your labeled dataset directory\n",
        "training_data = []\n",
        "\n",
        "pdf_files = [f for f in os.listdir(directory_path) if f.endswith('.pdf')]\n",
        "\n",
        "for pdf_file in pdf_files:\n",
        "    pdf_path = os.path.join(directory_path, pdf_file)\n",
        "    text, entities = extract_text_and_annotations(pdf_path)\n",
        "    training_data += convert_to_spacy_format(text, entities)\n",
        "\n",
        "# Load pre-trained model\n",
        "nlp = spacy.blank(\"en\")\n",
        "\n",
        "# Create or get NER component\n",
        "if \"ner\" not in nlp.pipe_names:\n",
        "    ner = nlp.add_pipe(\"ner\", last=True)\n",
        "else:\n",
        "    ner = nlp.get_pipe(\"ner\")\n",
        "\n",
        "# Add labels\n",
        "ner.add_label(\"GRI_Index\")\n",
        "ner.add_label(\"Page_Ref\")\n",
        "# 'O' is not typically added as a label in SpaCy, entities are not labeled with 'O'\n",
        "\n",
        "# Training loop\n",
        "optimizer = nlp.begin_training()\n",
        "\n",
        "for i in range(10):\n",
        "    losses = {}\n",
        "    batches = minibatch(training_data, size=compounding(4.0, 32.0, 1.001))\n",
        "    for batch in batches:\n",
        "        for text, annotations in batch:\n",
        "            doc = nlp.make_doc(text)\n",
        "            example = Example.from_dict(doc, annotations)\n",
        "            nlp.update([example], drop=0.5, losses=losses)\n",
        "    print(f\"Losses at iteration {i}: {losses}\")\n",
        "\n",
        "# Save the model\n",
        "nlp.to_disk(\"path_to_save_model\")\n",
        "\n",
        "# Using the trained model\n",
        "def extract_entities_from_pdf(pdf_path, model):\n",
        "    doc = fitz.open(pdf_path)\n",
        "    gri_index_tables = []\n",
        "    page_references = []\n",
        "\n",
        "    for page_num in range(len(doc)):\n",
        "        page = doc[page_num]\n",
        "        text = page.get_text(\"text\")\n",
        "        spacy_doc = model(text)\n",
        "        for ent in spacy_doc.ents:\n",
        "            if ent.label_ == \"GRI_Index\":\n",
        "                gri_index_tables.append((page_num + 1, ent.text))\n",
        "            elif ent.label_ == \"Page_Ref\":\n",
        "                page_references.append((page_num + 1, ent.text))\n",
        "\n",
        "    return gri_index_tables, page_references\n",
        "\n",
        "# Example usage\n",
        "unlabeled_pdf_path = '/content/351121_1.pdf'\n",
        "gri_index_tables, page_references = extract_entities_from_pdf(unlabeled_pdf_path, nlp)\n",
        "\n",
        "print(\"GRI Index Tables:\")\n",
        "for page, table in gri_index_tables:\n",
        "    print(f\"Page {page}:\\n Table {table}\\n\")\n",
        "\n",
        "print(\"Page References:\")\n",
        "for page, ref in page_references:\n",
        "    print(f\"Page {page}:\\n Ref {ref}\\n\")\n"
      ],
      "metadata": {
        "colab": {
          "base_uri": "https://localhost:8080/"
        },
        "id": "sWYsikL717tM",
        "outputId": "76b5e1be-3b63-4019-eea9-be4c95154c5a"
      },
      "execution_count": 12,
      "outputs": [
        {
          "output_type": "stream",
          "name": "stdout",
          "text": [
            "Losses at iteration 0: {'ner': 17121.597686767578}\n",
            "Losses at iteration 1: {'ner': 16628.05062866211}\n",
            "Losses at iteration 2: {'ner': 15841.18440246582}\n",
            "Losses at iteration 3: {'ner': 14848.84033203125}\n",
            "Losses at iteration 4: {'ner': 13868.981246948242}\n",
            "Losses at iteration 5: {'ner': 12242.894348144531}\n",
            "Losses at iteration 6: {'ner': 10309.296249389648}\n",
            "Losses at iteration 7: {'ner': 8076.370872497559}\n",
            "Losses at iteration 8: {'ner': 5410.864458084106}\n",
            "Losses at iteration 9: {'ner': 2814.908390045166}\n",
            "GRI Index Tables:\n",
            "Page References:\n"
          ]
        }
      ]
    },
    {
      "cell_type": "code",
      "source": [],
      "metadata": {
        "id": "7lYxMojq2jqF"
      },
      "execution_count": null,
      "outputs": []
    }
  ]
}